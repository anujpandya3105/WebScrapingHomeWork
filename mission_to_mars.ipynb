{
 "cells": [
  {
   "cell_type": "code",
   "execution_count": 2,
   "metadata": {},
   "outputs": [],
   "source": [
    "######Dependencies for Project Mission to Mars\n",
    "from bs4 import BeautifulSoup \n",
    "import splinter\n",
    "from splinter import Browser\n",
    "browser = Browser(\"chrome\", headless=False)\n"
   ]
  },
  {
   "cell_type": "code",
   "execution_count": 3,
   "metadata": {},
   "outputs": [
    {
     "data": {
      "text/plain": [
       "'NASA’s Mars Exploration Program : News '"
      ]
     },
     "execution_count": 3,
     "metadata": {},
     "output_type": "execute_result"
    }
   ],
   "source": [
    "## NASA Mars News\n",
    "#URL of page to be scraped\n",
    "url = 'https://mars.nasa.gov/news/'\n",
    "browser.visit(url)\n",
    "\n",
    "html=browser.html\n",
    "soup = BeautifulSoup(html, 'html.parser')\n",
    "#Test by checking if Title shows up\n",
    "soup.title.text"
   ]
  },
  {
   "cell_type": "code",
   "execution_count": 4,
   "metadata": {},
   "outputs": [
    {
     "name": "stdout",
     "output_type": "stream",
     "text": [
      "NASA's First Deep-Space CubeSats Say: ‘Polo!’\n"
     ]
    }
   ],
   "source": [
    "##News Title\n",
    "title = soup.find('div', class_=\"content_title\").text\n",
    "print(title)\n"
   ]
  },
  {
   "cell_type": "code",
   "execution_count": 5,
   "metadata": {},
   "outputs": [
    {
     "name": "stdout",
     "output_type": "stream",
     "text": [
      "MarCO is a pair of tiny spacecraft that launched with NASA's InSight lander today.\n"
     ]
    }
   ],
   "source": [
    "##News Title\n",
    "para = soup.find('div', class_=\"article_teaser_body\").text\n",
    "print(para)"
   ]
  },
  {
   "cell_type": "code",
   "execution_count": 6,
   "metadata": {},
   "outputs": [],
   "source": [
    "#JPL Mars Space Images - Featured Image\n",
    "#URL of the page to be scraped\n",
    "jpl_url = 'https://www.jpl.nasa.gov/spaceimages/?search=&category=Mars'\n",
    "featured_image_url = 'https://www.jpl.nasa.gov/spaceimages/images/mediumsize/PIA16028_ip.jpg'\n",
    "browser.visit(jpl_url)"
   ]
  },
  {
   "cell_type": "code",
   "execution_count": 9,
   "metadata": {},
   "outputs": [
    {
     "data": {
      "text/plain": [
       "'Mars Weather (@MarsWxReport) | Twitter'"
      ]
     },
     "execution_count": 9,
     "metadata": {},
     "output_type": "execute_result"
    }
   ],
   "source": [
    "#Test JPL Mars Space Images - Featured Image\n",
    "html=browser.html\n",
    "soup = BeautifulSoup(html, 'html.parser')\n",
    "#Test by checking if Title shows up\n",
    "soup.title.text"
   ]
  },
  {
   "cell_type": "code",
   "execution_count": 10,
   "metadata": {},
   "outputs": [
    {
     "data": {
      "text/plain": [
       "'Mars Weather (@MarsWxReport) | Twitter'"
      ]
     },
     "execution_count": 10,
     "metadata": {},
     "output_type": "execute_result"
    }
   ],
   "source": [
    "####Mars Weather\n",
    "mars_weather_url = 'https://twitter.com/marswxreport?lang=en'\n",
    "browser.visit(mars_weather_url)\n",
    "html=browser.html\n",
    "soup = BeautifulSoup(html, 'html.parser')\n",
    "#Test by checking if Title shows up\n",
    "soup.title.text\n"
   ]
  },
  {
   "cell_type": "code",
   "execution_count": 11,
   "metadata": {},
   "outputs": [
    {
     "name": "stdout",
     "output_type": "stream",
     "text": [
      "Sol 2039 (May 02, 2018), Sunny, high 0C/32F, low -74C/-101F, pressure at 7.28 hPa, daylight 05:23-17:20\n"
     ]
    }
   ],
   "source": [
    "####Mars Weather - Output\n",
    "mars_weather = soup.find('p', class_=\"TweetTextSize TweetTextSize--normal js-tweet-text tweet-text\").text\n",
    "print(mars_weather)"
   ]
  },
  {
   "cell_type": "code",
   "execution_count": 12,
   "metadata": {},
   "outputs": [
    {
     "data": {
      "text/plain": [
       "'Mars Facts - Interesting Facts about Planet Mars'"
      ]
     },
     "execution_count": 12,
     "metadata": {},
     "output_type": "execute_result"
    }
   ],
   "source": [
    "##Mars facts\n",
    "mars_facts_url = 'http://space-facts.com/mars/'\n",
    "browser.visit(mars_facts_url)\n",
    "html=browser.html\n",
    "soup = BeautifulSoup(html, 'html.parser')\n",
    "#Test by checking if Title shows up\n",
    "soup.title.text"
   ]
  },
  {
   "cell_type": "code",
   "execution_count": 13,
   "metadata": {},
   "outputs": [
    {
     "name": "stdout",
     "output_type": "stream",
     "text": [
      "\n",
      "\n",
      "\n",
      "Equatorial Diameter:6,792 km\n",
      "\n",
      "\n",
      "\n",
      "Polar Diameter:6,752 km\n",
      "\n",
      "\n",
      "\n",
      "Mass:6.42 x 10^23 kg (10.7% Earth)\n",
      "\n",
      "\n",
      "Moons:2 (Phobos & Deimos)\n",
      "\n",
      "\n",
      "Orbit Distance:227,943,824 km (1.52 AU)\n",
      "\n",
      "\n",
      "Orbit Period:687 days (1.9 years)\n",
      "\n",
      "\n",
      "\n",
      "Surface Temperature: -153 to 20 °C\n",
      "\n",
      "\n",
      "First Record:2nd millennium BC\n",
      "\n",
      "\n",
      "Recorded By:Egyptian astronomers\n",
      "\n",
      "\n",
      "\n"
     ]
    }
   ],
   "source": [
    "#Get the table from Mars Facts\n",
    "mars_table = soup.find('table', class_=\"tablepress tablepress-id-mars\").text\n",
    "print(mars_table)"
   ]
  },
  {
   "cell_type": "code",
   "execution_count": 14,
   "metadata": {},
   "outputs": [
    {
     "name": "stdout",
     "output_type": "stream",
     "text": [
      "                      0                              1\n",
      "0  Equatorial Diameter:                       6,792 km\n",
      "1       Polar Diameter:                       6,752 km\n",
      "2                 Mass:  6.42 x 10^23 kg (10.7% Earth)\n",
      "3                Moons:            2 (Phobos & Deimos)\n",
      "4       Orbit Distance:       227,943,824 km (1.52 AU)\n",
      "5         Orbit Period:           687 days (1.9 years)\n",
      "6  Surface Temperature:                  -153 to 20 °C\n",
      "7         First Record:              2nd millennium BC\n",
      "8          Recorded By:           Egyptian astronomers\n"
     ]
    }
   ],
   "source": [
    "#Convert the table from Mars Facts to a Pandas Data Frame\n",
    "import pandas as pd\n",
    "mars_df = pd.read_html(mars_facts_url)[0]\n",
    "print(mars_df)\n"
   ]
  },
  {
   "cell_type": "code",
   "execution_count": 15,
   "metadata": {},
   "outputs": [
    {
     "name": "stdout",
     "output_type": "stream",
     "text": [
      "<table border=\"1\" class=\"dataframe\">\n",
      " <thead>\n",
      "  <tr style=\"text-align: right;\">\n",
      "   <th>\n",
      "   </th>\n",
      "   <th>\n",
      "    0\n",
      "   </th>\n",
      "   <th>\n",
      "    1\n",
      "   </th>\n",
      "  </tr>\n",
      " </thead>\n",
      " <tbody>\n",
      "  <tr>\n",
      "   <th>\n",
      "    0\n",
      "   </th>\n",
      "   <td>\n",
      "    Equatorial Diameter:\n",
      "   </td>\n",
      "   <td>\n",
      "    6,792 km\n",
      "   </td>\n",
      "  </tr>\n",
      "  <tr>\n",
      "   <th>\n",
      "    1\n",
      "   </th>\n",
      "   <td>\n",
      "    Polar Diameter:\n",
      "   </td>\n",
      "   <td>\n",
      "    6,752 km\n",
      "   </td>\n",
      "  </tr>\n",
      "  <tr>\n",
      "   <th>\n",
      "    2\n",
      "   </th>\n",
      "   <td>\n",
      "    Mass:\n",
      "   </td>\n",
      "   <td>\n",
      "    6.42 x 10^23 kg (10.7% Earth)\n",
      "   </td>\n",
      "  </tr>\n",
      "  <tr>\n",
      "   <th>\n",
      "    3\n",
      "   </th>\n",
      "   <td>\n",
      "    Moons:\n",
      "   </td>\n",
      "   <td>\n",
      "    2 (Phobos &amp; Deimos)\n",
      "   </td>\n",
      "  </tr>\n",
      "  <tr>\n",
      "   <th>\n",
      "    4\n",
      "   </th>\n",
      "   <td>\n",
      "    Orbit Distance:\n",
      "   </td>\n",
      "   <td>\n",
      "    227,943,824 km (1.52 AU)\n",
      "   </td>\n",
      "  </tr>\n",
      "  <tr>\n",
      "   <th>\n",
      "    5\n",
      "   </th>\n",
      "   <td>\n",
      "    Orbit Period:\n",
      "   </td>\n",
      "   <td>\n",
      "    687 days (1.9 years)\n",
      "   </td>\n",
      "  </tr>\n",
      "  <tr>\n",
      "   <th>\n",
      "    6\n",
      "   </th>\n",
      "   <td>\n",
      "    Surface Temperature:\n",
      "   </td>\n",
      "   <td>\n",
      "    -153 to 20 °C\n",
      "   </td>\n",
      "  </tr>\n",
      "  <tr>\n",
      "   <th>\n",
      "    7\n",
      "   </th>\n",
      "   <td>\n",
      "    First Record:\n",
      "   </td>\n",
      "   <td>\n",
      "    2nd millennium BC\n",
      "   </td>\n",
      "  </tr>\n",
      "  <tr>\n",
      "   <th>\n",
      "    8\n",
      "   </th>\n",
      "   <td>\n",
      "    Recorded By:\n",
      "   </td>\n",
      "   <td>\n",
      "    Egyptian astronomers\n",
      "   </td>\n",
      "  </tr>\n",
      " </tbody>\n",
      "</table>\n"
     ]
    }
   ],
   "source": [
    "#Convert the Mars Facts Data Frame to HTML\n",
    "html_string=mars_df.to_html()\n",
    "soup = BeautifulSoup(html_string, 'html.parser')\n",
    "print(soup.prettify())"
   ]
  },
  {
   "cell_type": "code",
   "execution_count": 17,
   "metadata": {},
   "outputs": [
    {
     "data": {
      "text/plain": [
       "'Astropedia Search Results | USGS Astrogeology Science Center'"
      ]
     },
     "execution_count": 17,
     "metadata": {},
     "output_type": "execute_result"
    }
   ],
   "source": [
    "##Mars Hemispheres\n",
    "mars_hemisphere_url = 'https://astrogeology.usgs.gov/search/results?q=hemisphere+enhanced&k1=target&v1=Mars/'\n",
    "browser.visit(mars_hemisphere_url)\n",
    "html=browser.html\n",
    "soup = BeautifulSoup(html, 'html.parser')\n",
    "soup.title.text"
   ]
  },
  {
   "cell_type": "code",
   "execution_count": 18,
   "metadata": {},
   "outputs": [
    {
     "name": "stdout",
     "output_type": "stream",
     "text": [
      "Cerberus Hemisphere Enhanced\n",
      "https://astrogeology.usgs.gov/search/map/Mars/Viking/cerberus_enhanced\n",
      "Schiaparelli Hemisphere Enhanced\n",
      "https://astrogeology.usgs.gov/search/map/Mars/Viking/schiaparelli_enhanced\n",
      "Syrtis Major Hemisphere Enhanced\n",
      "https://astrogeology.usgs.gov/search/map/Mars/Viking/syrtis_major_enhanced\n",
      "Valles Marineris Hemisphere Enhanced\n",
      "https://astrogeology.usgs.gov/search/map/Mars/Viking/valles_marineris_enhanced\n",
      "L:Cerberus Hemisphere Enhanced\n",
      "U:https://astrogeology.usgs.gov/search/map/Mars/Viking/cerberus_enhanced\n",
      "L:Schiaparelli Hemisphere Enhanced\n",
      "U:https://astrogeology.usgs.gov/search/map/Mars/Viking/schiaparelli_enhanced\n",
      "L:Syrtis Major Hemisphere Enhanced\n",
      "U:https://astrogeology.usgs.gov/search/map/Mars/Viking/syrtis_major_enhanced\n",
      "L:Valles Marineris Hemisphere Enhanced\n",
      "U:https://astrogeology.usgs.gov/search/map/Mars/Viking/valles_marineris_enhanced\n",
      "[{'title': 'Cerberus Hemisphere Enhanced', 'img_url': 'https://astrogeology.usgs.gov/search/map/Mars/Viking/cerberus_enhanced'}, {'title': 'Schiaparelli Hemisphere Enhanced', 'img_url': 'https://astrogeology.usgs.gov/search/map/Mars/Viking/schiaparelli_enhanced'}, {'title': 'Syrtis Major Hemisphere Enhanced', 'img_url': 'https://astrogeology.usgs.gov/search/map/Mars/Viking/syrtis_major_enhanced'}, {'title': 'Valles Marineris Hemisphere Enhanced', 'img_url': 'https://astrogeology.usgs.gov/search/map/Mars/Viking/valles_marineris_enhanced'}]\n"
     ]
    }
   ],
   "source": [
    "##Loop through all the descriptions in the URL\n",
    "##Append the Description to a description list\n",
    "##Append the URL to a URL list\n",
    "##Then create a dictionary with the lists with title as the key and url as the value\n",
    "mars_hemispheres_images = {}\n",
    "title_list = []\n",
    "url_list = []\n",
    "descriptions = soup.find_all('div', class_='description')\n",
    "for description in descriptions:\n",
    "    title = description.find('h3').text\n",
    "    img_url = description.a['href']\n",
    "    img_url_final = \"https://astrogeology.usgs.gov\" + img_url\n",
    "    print(title)\n",
    "    print(img_url_final)\n",
    "    title_list.append(title)\n",
    "    url_list.append(img_url_final)\n",
    "    \n",
    "for i in range(0,4):\n",
    "    print(\"L:\"+ title_list[i])\n",
    "    print(\"U:\"+ url_list[i])\n",
    "    \n",
    "mars_hemispheres_images = [\n",
    "    {'title': title_list[0], 'img_url': url_list[0]},\n",
    "    {'title': title_list[1], 'img_url': url_list[1]},\n",
    "    {'title': title_list[2], 'img_url': url_list[2]},\n",
    "    {'title': title_list[3], 'img_url': url_list[3]}\n",
    "]\n",
    "print(mars_hemispheres_images)\n",
    "\n"
   ]
  },
  {
   "cell_type": "code",
   "execution_count": null,
   "metadata": {},
   "outputs": [],
   "source": []
  }
 ],
 "metadata": {
  "kernelspec": {
   "display_name": "Python 3",
   "language": "python",
   "name": "python3"
  },
  "language_info": {
   "codemirror_mode": {
    "name": "ipython",
    "version": 3
   },
   "file_extension": ".py",
   "mimetype": "text/x-python",
   "name": "python",
   "nbconvert_exporter": "python",
   "pygments_lexer": "ipython3",
   "version": "3.6.4"
  }
 },
 "nbformat": 4,
 "nbformat_minor": 2
}
